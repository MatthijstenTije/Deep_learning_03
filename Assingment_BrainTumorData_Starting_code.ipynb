{
  "cells": [
    {
      "cell_type": "markdown",
      "metadata": {
        "id": "fNtYhxijsi8_"
      },
      "source": [
        "# 1. Import libraries"
      ]
    },
    {
      "cell_type": "code",
      "execution_count": 3,
      "metadata": {
        "id": "pQ98Py2FsbRa"
      },
      "outputs": [],
      "source": [
        "# Import necessary libraries\n",
        "import os\n",
        "import tensorflow as tf\n",
        "from tensorflow.keras.preprocessing.image import ImageDataGenerator\n",
        "#from google.colab import drive\n",
        "import numpy as np\n",
        "\n",
        "# From here, add any libraries that you might need for the rest of your code"
      ]
    },
    {
      "cell_type": "markdown",
      "metadata": {
        "id": "qQT9fT6Qs2qJ"
      },
      "source": [
        "# 2. Load and pre-process the dataset"
      ]
    },
    {
      "cell_type": "code",
      "execution_count": 4,
      "metadata": {
        "colab": {
          "base_uri": "https://localhost:8080/"
        },
        "id": "n7rv3_Tts5TP",
        "outputId": "9e04cd4d-a993-48e0-ddfd-9c0872703ab6"
      },
      "outputs": [],
      "source": [
        "#drive.mount('/content/drive')"
      ]
    },
    {
      "cell_type": "code",
      "execution_count": 3,
      "metadata": {
        "colab": {
          "base_uri": "https://localhost:8080/"
        },
        "id": "Rq1c8jHEs68D",
        "outputId": "55e24376-87a1-43c7-d95c-e2e264494ee9"
      },
      "outputs": [
        {
          "name": "stdout",
          "output_type": "stream",
          "text": [
            "Data directory: /content/drive/MyDrive/Deep_Learning_Fall24/Assignment/brain_tumor_dataset\n",
            "Training directory: /content/drive/MyDrive/Deep_Learning_Fall24/Assignment/brain_tumor_dataset/Training\n",
            "Testing directory: /content/drive/MyDrive/Deep_Learning_Fall24/Assignment/brain_tumor_dataset/Testing\n"
          ]
        }
      ],
      "source": [
        "# Set the paths based on your Drive directory\n",
        "data_dir ='/content/drive/MyDrive/Deep_Learning_Fall24/Assignment/brain_tumor_dataset' # Change to the path to your directory\n",
        "train_images_dir = os.path.join(data_dir, 'Training')\n",
        "test_images_dir = os.path.join(data_dir, 'Testing')\n",
        "\n",
        "print(f\"Data directory: {data_dir}\")\n",
        "print(f\"Training directory: {train_images_dir}\")\n",
        "print(f\"Testing directory: {test_images_dir}\")"
      ]
    },
    {
      "cell_type": "code",
      "execution_count": 4,
      "metadata": {
        "colab": {
          "base_uri": "https://localhost:8080/"
        },
        "id": "7mbrguV3tBdF",
        "outputId": "ade50fed-6243-4b6c-c736-c16b649a1c7e"
      },
      "outputs": [
        {
          "name": "stdout",
          "output_type": "stream",
          "text": [
            "Found 5712 images belonging to 4 classes.\n",
            "Found 1311 images belonging to 4 classes.\n",
            "Data loading completed successfully.\n",
            "Number of training samples: 5712\n",
            "Number of test samples: 1311\n",
            "Class names: {'glioma': 0, 'meningioma': 1, 'notumor': 2, 'pituitary': 3}\n"
          ]
        }
      ],
      "source": [
        "## IMPORTANT: please remember that you are not allowed to change the\n",
        "## loading and preprocessing code to improve model performance for this assignment.\n",
        "\n",
        "# Load and preprocess the data\n",
        "np.random.seed(seed=42)\n",
        "def add_noise(img):\n",
        "    std_coeff = 70*np.random.random()\n",
        "    noise = np.random.normal(0, std_coeff, img.shape)\n",
        "    img += noise\n",
        "    np.clip(img, 0., 255.)\n",
        "    return img\n",
        "\n",
        "image_res = 30\n",
        "def get_images(train_dir: str, test_dir: str):\n",
        "    datagen = ImageDataGenerator(rescale=1./255, preprocessing_function=add_noise)\n",
        "\n",
        "    img_height, img_width = image_res, image_res\n",
        "    batch_size = 32\n",
        "\n",
        "    # Load training data\n",
        "    train_data = datagen.flow_from_directory(\n",
        "        train_dir,\n",
        "        target_size=(img_height, img_width),\n",
        "        batch_size=batch_size,\n",
        "        class_mode='categorical',\n",
        "        shuffle=True,\n",
        "        color_mode='grayscale'\n",
        "    )\n",
        "\n",
        "    # Load test data\n",
        "    test_data = datagen.flow_from_directory(\n",
        "        test_dir,\n",
        "        target_size=(img_height, img_width),\n",
        "        batch_size=batch_size,\n",
        "        class_mode='categorical',\n",
        "        shuffle=False,\n",
        "        color_mode='grayscale'\n",
        "    )\n",
        "\n",
        "    return train_data, test_data\n",
        "\n",
        "# Load the training and test data\n",
        "try:\n",
        "    train_data, test_data = get_images(train_images_dir, test_images_dir)\n",
        "    print(\"Data loading completed successfully.\")\n",
        "    print(f\"Number of training samples: {train_data.samples}\")\n",
        "    print(f\"Number of test samples: {test_data.samples}\")\n",
        "    print(f\"Class names: {train_data.class_indices}\")\n",
        "except Exception as e:\n",
        "    print(f\"Error loading data: {e}\")\n",
        "    raise"
      ]
    },
    {
      "cell_type": "markdown",
      "metadata": {
        "id": "NF5seZFjthmc"
      },
      "source": [
        "# 3. Visualise data and plot data distribution"
      ]
    },
    {
      "cell_type": "markdown",
      "metadata": {
        "id": "RW7imEV6vrT0"
      },
      "source": [
        "# 4. Train and Evaluation functions"
      ]
    },
    {
      "cell_type": "markdown",
      "metadata": {
        "id": "0Iou3RfGvvFT"
      },
      "source": [
        "# 5. Model training"
      ]
    },
    {
      "cell_type": "markdown",
      "metadata": {
        "id": "C0c6U8aMvylz"
      },
      "source": [
        "# 6. Model evaluation"
      ]
    },
    {
      "cell_type": "code",
      "execution_count": null,
      "metadata": {
        "id": "6lK94KjItoiQ"
      },
      "outputs": [],
      "source": []
    }
  ],
  "metadata": {
    "colab": {
      "provenance": []
    },
    "kernelspec": {
      "display_name": "Python 3",
      "name": "python3"
    },
    "language_info": {
      "codemirror_mode": {
        "name": "ipython",
        "version": 3
      },
      "file_extension": ".py",
      "mimetype": "text/x-python",
      "name": "python",
      "nbconvert_exporter": "python",
      "pygments_lexer": "ipython3",
      "version": "3.12.4"
    }
  },
  "nbformat": 4,
  "nbformat_minor": 0
}
