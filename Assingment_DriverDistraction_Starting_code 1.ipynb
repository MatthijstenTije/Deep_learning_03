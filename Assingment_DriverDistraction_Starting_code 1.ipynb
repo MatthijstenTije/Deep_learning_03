{
  "cells": [
    {
      "cell_type": "code",
      "execution_count": 1,
      "metadata": {
        "id": "7HxfLfKKdwQq"
      },
      "outputs": [],
      "source": [
        "# Install packages if needed with this command: \n",
        "# !pip install -r requirements.txt\n",
        "import os\n",
        "import kaggle\n",
        "import pandas as pd\n",
        "import tensorflow as tf\n",
        "from tensorflow.keras.preprocessing.image import ImageDataGenerator\n",
        "import numpy as np\n",
        "\n",
        "# From here, add any libraries that you might need for the rest of your code"
      ]
    },
    {
      "cell_type": "markdown",
      "metadata": {
        "id": "L7Go5qaFd6D0"
      },
      "source": [
        "# 1. Load dataset\n"
      ]
    },
    {
      "cell_type": "code",
      "execution_count": 2,
      "metadata": {
        "colab": {
          "base_uri": "https://localhost:8080/"
        },
        "id": "m0R9IKNGdqI7",
        "outputId": "aa4e0408-227a-4a82-f635-29ee2c286dc1"
      },
      "outputs": [],
      "source": [
        "# download data\n",
        "data_dir = 'driver-inattention-detection-dataset'\n",
        "if not os.path.isdir(data_dir):\n",
        "    kaggle.api.dataset_download_files('zeyad1mashhour/driver-inattention-detection-dataset', \n",
        "                                    path=data_dir, unzip=True)"
      ]
    },
    {
      "cell_type": "code",
      "execution_count": null,
      "metadata": {},
      "outputs": [
        {
          "name": "stdout",
          "output_type": "stream",
          "text": [
            "Found 11948 validated image filenames belonging to 6 classes.\n",
            "Found 1922 validated image filenames belonging to 6 classes.\n",
            "Found 985 validated image filenames belonging to 6 classes.\n"
          ]
        }
      ],
      "source": [
        "## IMPORTANT: please remember that you are not allowed to change the\n",
        "## loading and preprocessing code to improve model performance for this assignment.\n",
        "\n",
        "# read the file containing the class labels\n",
        "with open(os.path.join(data_dir, 'train', '_classes.txt')) as f: \n",
        "    classes = list(map(str.strip, f))\n",
        "\n",
        "# read image paths and labels and store them in pandas dataframes\n",
        "with open(os.path.join(data_dir, 'test', '_annotations.txt'), 'r') as f: \n",
        "    df_test = pd.DataFrame(dict(img=os.path.join(data_dir, 'test', line.split()[0]), \n",
        "                                label=classes[int(line.strip()[-1])]) for line in f)\n",
        "    \n",
        "with open(os.path.join(data_dir, 'valid', '_annotations.txt'), 'r') as f: \n",
        "    df_val = pd.DataFrame(dict(img=os.path.join(data_dir, 'valid', line.split()[0]), \n",
        "                               label=classes[int(line.strip()[-1])]) for line in f)\n",
        "    \n",
        "with open(os.path.join(data_dir, 'train', '_annotations.txt'), 'r') as f: \n",
        "    df_train = pd.DataFrame(dict(img=os.path.join(data_dir, 'train', line.split()[0]), \n",
        "                                 label=classes[int(line.strip()[-1])]) for line in f if len(line.split())>1)\n",
        "\n",
        "# pre-processing parameters\n",
        "image_unit_res = 8\n",
        "img_height, img_width = 9*image_unit_res, 16*image_unit_res # 16:9 preserve aspect ratio\n",
        "batch_size = 32\n",
        "\n",
        "def add_noise(img):\n",
        "    std_coeff = 50*np.random.random()\n",
        "    noise = np.random.normal(0, std_coeff, img.shape)\n",
        "    img += noise\n",
        "    np.clip(img, 0., 255.)\n",
        "    return img\n",
        "\n",
        "data_gen = ImageDataGenerator(rescale=1./255, preprocessing_function=add_noise)\n",
        "\n",
        "train_data = data_gen.flow_from_dataframe(\n",
        "    df_train, x_col='img', y_col='label',\n",
        "    target_size=(img_height, img_width),\n",
        "    batch_size=batch_size,\n",
        "    class_mode='categorical',\n",
        "    shuffle=True,\n",
        "    color_mode='grayscale')\n",
        "\n",
        "val_data = data_gen.flow_from_dataframe(\n",
        "    df_val, x_col='img', y_col='label',\n",
        "    target_size=(img_height, img_width),\n",
        "    batch_size=batch_size,\n",
        "    class_mode='categorical',\n",
        "    shuffle=False,\n",
        "    color_mode='grayscale')\n",
        "\n",
        "test_data = data_gen.flow_from_dataframe(\n",
        "    df_test, x_col='img', y_col='label',\n",
        "    target_size=(img_height, img_width),\n",
        "    batch_size=batch_size,\n",
        "    class_mode='categorical',\n",
        "    shuffle=False,\n",
        "    color_mode='grayscale')\n"
      ]
    },
    {
      "cell_type": "markdown",
      "metadata": {
        "id": "PkWCstn9fJNq"
      },
      "source": [
        "# 2. Visualise data and plot data distribution"
      ]
    },
    {
      "cell_type": "markdown",
      "metadata": {
        "id": "DdFTDxzm62UI"
      },
      "source": [
        "# 3. Train and Evaluation functions"
      ]
    },
    {
      "cell_type": "markdown",
      "metadata": {
        "id": "5ieKt8GR7Oe9"
      },
      "source": [
        "# 4. Model training"
      ]
    },
    {
      "cell_type": "markdown",
      "metadata": {},
      "source": [
        "# 5. Model evaluation"
      ]
    },
    {
      "cell_type": "markdown",
      "metadata": {},
      "source": []
    }
  ],
  "metadata": {
    "colab": {
      "provenance": []
    },
    "kernelspec": {
      "display_name": "keras",
      "language": "python",
      "name": "python3"
    },
    "language_info": {
      "codemirror_mode": {
        "name": "ipython",
        "version": 3
      },
      "file_extension": ".py",
      "mimetype": "text/x-python",
      "name": "python",
      "nbconvert_exporter": "python",
      "pygments_lexer": "ipython3",
      "version": "3.10.16"
    }
  },
  "nbformat": 4,
  "nbformat_minor": 0
}
